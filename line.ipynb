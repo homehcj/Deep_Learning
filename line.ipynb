{
 "cells": [
  {
   "cell_type": "code",
   "execution_count": 2,
   "metadata": {},
   "outputs": [],
   "source": [
    "import random\n",
    "import torch"
   ]
  },
  {
   "attachments": {},
   "cell_type": "markdown",
   "metadata": {},
   "source": [
    "#### 生成数据集 \n",
    "y= **Xw** + b + c(噪声满足正态分布) \n",
    "+ _n个样本数据集，2个特征_\n",
    "+ w=[2. -3.4] b=4"
   ]
  },
  {
   "cell_type": "code",
   "execution_count": 16,
   "metadata": {},
   "outputs": [
    {
     "ename": "RuntimeError",
     "evalue": "mat1 and mat2 shapes cannot be multiplied (1x2 and 1000x2)",
     "output_type": "error",
     "traceback": [
      "\u001b[1;31m---------------------------------------------------------------------------\u001b[0m",
      "\u001b[1;31mRuntimeError\u001b[0m                              Traceback (most recent call last)",
      "\u001b[1;32mc:\\Users\\Tom Huang\\Desktop\\Deep_Learning\\line.ipynb 单元格 3\u001b[0m in \u001b[0;36m<cell line: 7>\u001b[1;34m()\u001b[0m\n\u001b[0;32m      <a href='vscode-notebook-cell:/c%3A/Users/Tom%20Huang/Desktop/Deep_Learning/line.ipynb#W2sZmlsZQ%3D%3D?line=3'>4</a>\u001b[0m     y\u001b[39m=\u001b[39my\u001b[39m+\u001b[39mtorch\u001b[39m.\u001b[39mnormal(\u001b[39m0\u001b[39m,\u001b[39m0.01\u001b[39m,y\u001b[39m.\u001b[39mshape)\n\u001b[0;32m      <a href='vscode-notebook-cell:/c%3A/Users/Tom%20Huang/Desktop/Deep_Learning/line.ipynb#W2sZmlsZQ%3D%3D?line=4'>5</a>\u001b[0m     \u001b[39mreturn\u001b[39;00m X,y\u001b[39m.\u001b[39mreshape((\u001b[39m-\u001b[39m\u001b[39m1\u001b[39m,\u001b[39m1\u001b[39m))\n\u001b[1;32m----> <a href='vscode-notebook-cell:/c%3A/Users/Tom%20Huang/Desktop/Deep_Learning/line.ipynb#W2sZmlsZQ%3D%3D?line=6'>7</a>\u001b[0m x,y\u001b[39m=\u001b[39mcreate_data(\u001b[39m1000\u001b[39;49m,torch\u001b[39m.\u001b[39;49mtensor([\u001b[39m2\u001b[39;49m,\u001b[39m-\u001b[39;49m\u001b[39m3.4\u001b[39;49m]),\u001b[39m4\u001b[39;49m)\n",
      "\u001b[1;32mc:\\Users\\Tom Huang\\Desktop\\Deep_Learning\\line.ipynb 单元格 3\u001b[0m in \u001b[0;36mcreate_data\u001b[1;34m(n, w, b)\u001b[0m\n\u001b[0;32m      <a href='vscode-notebook-cell:/c%3A/Users/Tom%20Huang/Desktop/Deep_Learning/line.ipynb#W2sZmlsZQ%3D%3D?line=0'>1</a>\u001b[0m \u001b[39mdef\u001b[39;00m \u001b[39mcreate_data\u001b[39m(n,w,b):\n\u001b[0;32m      <a href='vscode-notebook-cell:/c%3A/Users/Tom%20Huang/Desktop/Deep_Learning/line.ipynb#W2sZmlsZQ%3D%3D?line=1'>2</a>\u001b[0m     X\u001b[39m=\u001b[39mtorch\u001b[39m.\u001b[39mnormal(\u001b[39m0\u001b[39m,\u001b[39m1\u001b[39m,(n,\u001b[39mlen\u001b[39m(w)))\n\u001b[1;32m----> <a href='vscode-notebook-cell:/c%3A/Users/Tom%20Huang/Desktop/Deep_Learning/line.ipynb#W2sZmlsZQ%3D%3D?line=2'>3</a>\u001b[0m     y\u001b[39m=\u001b[39mtorch\u001b[39m.\u001b[39;49mmatmul(w,X)\u001b[39m+\u001b[39mb\n\u001b[0;32m      <a href='vscode-notebook-cell:/c%3A/Users/Tom%20Huang/Desktop/Deep_Learning/line.ipynb#W2sZmlsZQ%3D%3D?line=3'>4</a>\u001b[0m     y\u001b[39m=\u001b[39my\u001b[39m+\u001b[39mtorch\u001b[39m.\u001b[39mnormal(\u001b[39m0\u001b[39m,\u001b[39m0.01\u001b[39m,y\u001b[39m.\u001b[39mshape)\n\u001b[0;32m      <a href='vscode-notebook-cell:/c%3A/Users/Tom%20Huang/Desktop/Deep_Learning/line.ipynb#W2sZmlsZQ%3D%3D?line=4'>5</a>\u001b[0m     \u001b[39mreturn\u001b[39;00m X,y\u001b[39m.\u001b[39mreshape((\u001b[39m-\u001b[39m\u001b[39m1\u001b[39m,\u001b[39m1\u001b[39m))\n",
      "\u001b[1;31mRuntimeError\u001b[0m: mat1 and mat2 shapes cannot be multiplied (1x2 and 1000x2)"
     ]
    }
   ],
   "source": [
    "def create_data(n,w,b):\n",
    "    X=torch.normal(0,1,(n,len(w)))\n",
    "    y=torch.matmul(w,X)+b\n",
    "    y=y+torch.normal(0,0.01,y.shape)\n",
    "    return X,y.reshape((-1,1))\n",
    "\n",
    "x,y=create_data(1000,torch.tensor([2,-3.4]),4)\n",
    "#print(x,'\\n',y)"
   ]
  }
 ],
 "metadata": {
  "kernelspec": {
   "display_name": "Python 3",
   "language": "python",
   "name": "python3"
  },
  "language_info": {
   "codemirror_mode": {
    "name": "ipython",
    "version": 3
   },
   "file_extension": ".py",
   "mimetype": "text/x-python",
   "name": "python",
   "nbconvert_exporter": "python",
   "pygments_lexer": "ipython3",
   "version": "3.9.7"
  },
  "orig_nbformat": 4,
  "vscode": {
   "interpreter": {
    "hash": "123b9932f9da79072ca55f3df90f065e94efe2c192347af71fbcdc6b42c3e4aa"
   }
  }
 },
 "nbformat": 4,
 "nbformat_minor": 2
}
