{
 "cells": [
  {
   "attachments": {},
   "cell_type": "markdown",
   "metadata": {},
   "source": [
    "## MNIST手写数字训练集\n",
    "+ 60000行的训练数据集（mnist.train）和10000行的测试数据集（mnist.test）"
   ]
  },
  {
   "cell_type": "code",
   "execution_count": 379,
   "metadata": {},
   "outputs": [],
   "source": [
    "import torch"
   ]
  },
  {
   "attachments": {},
   "cell_type": "markdown",
   "metadata": {},
   "source": [
    "### 读取数据"
   ]
  },
  {
   "cell_type": "code",
   "execution_count": 380,
   "metadata": {},
   "outputs": [
    {
     "data": {
      "text/plain": [
       "array([  0,   0,   0,   0,   0,   0,   0,   0,   0,   0,   0,   0,   0,\n",
       "         0,   0,   0,   0,   0,   0,   0,   0,   0,   0,   0,   0,   0,\n",
       "         0,   0,   0,   0,   0,   0,   0,   0,   0,   0,   0,   0,   0,\n",
       "         0,   0,   0,   0,   0,   0,   0,   0,   0,   0,   0,   0,   0,\n",
       "         0,   0,   0,   0,   0,   0,   0,   0,   0,   0,   0,   0,   0,\n",
       "         0,   0,   0,   0,   0,   0,   0,   0,   0,   0,   0,   0,   0,\n",
       "         0,   0,   0,   0,   0,   0,   0,   0,   0,   0,   0,   0,   0,\n",
       "         0,   0,   0,   0,   0,   0,   0,   0,   0,   0,   0,   0,   0,\n",
       "         0,   0,   0,   0,   0,   0,   0,   0,   0,   0,   0,   0,   0,\n",
       "         0,   0,   0,   0,   0,   0,   0,   0,   0,   0,   0,   0,   0,\n",
       "         0,   0,   0,   0,   0,   0,   0,   0,   0,   0,   0,   0,   0,\n",
       "         0,   0,   0,   0,   0,   0,   0,   0,   0,   3,  18,  18,  18,\n",
       "       126, 136, 175,  26, 166, 255, 247, 127,   0,   0,   0,   0,   0,\n",
       "         0,   0,   0,   0,   0,   0,   0,  30,  36,  94, 154, 170, 253,\n",
       "       253, 253, 253, 253, 225, 172, 253, 242, 195,  64,   0,   0,   0,\n",
       "         0,   0,   0,   0,   0,   0,   0,   0,  49, 238, 253, 253, 253,\n",
       "       253, 253, 253, 253, 253, 251,  93,  82,  82,  56,  39,   0,   0,\n",
       "         0,   0,   0,   0,   0,   0,   0,   0,   0,   0,  18, 219, 253,\n",
       "       253, 253, 253, 253, 198, 182, 247, 241,   0,   0,   0,   0,   0,\n",
       "         0,   0,   0,   0,   0,   0,   0,   0,   0,   0,   0,   0,   0,\n",
       "        80, 156, 107, 253, 253, 205,  11,   0,  43, 154,   0,   0,   0,\n",
       "         0,   0,   0,   0,   0,   0,   0,   0,   0,   0,   0,   0,   0,\n",
       "         0,   0,   0,  14,   1, 154, 253,  90,   0,   0,   0,   0,   0,\n",
       "         0,   0,   0,   0,   0,   0,   0,   0,   0,   0,   0,   0,   0,\n",
       "         0,   0,   0,   0,   0,   0,   0, 139, 253, 190,   2,   0,   0,\n",
       "         0,   0,   0,   0,   0,   0,   0,   0,   0,   0,   0,   0,   0,\n",
       "         0,   0,   0,   0,   0,   0,   0,   0,   0,  11, 190, 253,  70,\n",
       "         0,   0,   0,   0,   0,   0,   0,   0,   0,   0,   0,   0,   0,\n",
       "         0,   0,   0,   0,   0,   0,   0,   0,   0,   0,   0,   0,  35,\n",
       "       241, 225, 160, 108,   1,   0,   0,   0,   0,   0,   0,   0,   0,\n",
       "         0,   0,   0,   0,   0,   0,   0,   0,   0,   0,   0,   0,   0,\n",
       "         0,   0,  81, 240, 253, 253, 119,  25,   0,   0,   0,   0,   0,\n",
       "         0,   0,   0,   0,   0,   0,   0,   0,   0,   0,   0,   0,   0,\n",
       "         0,   0,   0,   0,   0,  45, 186, 253, 253, 150,  27,   0,   0,\n",
       "         0,   0,   0,   0,   0,   0,   0,   0,   0,   0,   0,   0,   0,\n",
       "         0,   0,   0,   0,   0,   0,   0,   0,  16,  93, 252, 253, 187,\n",
       "         0,   0,   0,   0,   0,   0,   0,   0,   0,   0,   0,   0,   0,\n",
       "         0,   0,   0,   0,   0,   0,   0,   0,   0,   0,   0,   0, 249,\n",
       "       253, 249,  64,   0,   0,   0,   0,   0,   0,   0,   0,   0,   0,\n",
       "         0,   0,   0,   0,   0,   0,   0,   0,   0,   0,   0,  46, 130,\n",
       "       183, 253, 253, 207,   2,   0,   0,   0,   0,   0,   0,   0,   0,\n",
       "         0,   0,   0,   0,   0,   0,   0,   0,   0,   0,   0,  39, 148,\n",
       "       229, 253, 253, 253, 250, 182,   0,   0,   0,   0,   0,   0,   0,\n",
       "         0,   0,   0,   0,   0,   0,   0,   0,   0,   0,   0,  24, 114,\n",
       "       221, 253, 253, 253, 253, 201,  78,   0,   0,   0,   0,   0,   0,\n",
       "         0,   0,   0,   0,   0,   0,   0,   0,   0,   0,   0,  23,  66,\n",
       "       213, 253, 253, 253, 253, 198,  81,   2,   0,   0,   0,   0,   0,\n",
       "         0,   0,   0,   0,   0,   0,   0,   0,   0,   0,   0,  18, 171,\n",
       "       219, 253, 253, 253, 253, 195,  80,   9,   0,   0,   0,   0,   0,\n",
       "         0,   0,   0,   0,   0,   0,   0,   0,   0,   0,   0,  55, 172,\n",
       "       226, 253, 253, 253, 253, 244, 133,  11,   0,   0,   0,   0,   0,\n",
       "         0,   0,   0,   0,   0,   0,   0,   0,   0,   0,   0,   0,   0,\n",
       "       136, 253, 253, 253, 212, 135, 132,  16,   0,   0,   0,   0,   0,\n",
       "         0,   0,   0,   0,   0,   0,   0,   0,   0,   0,   0,   0,   0,\n",
       "         0,   0,   0,   0,   0,   0,   0,   0,   0,   0,   0,   0,   0,\n",
       "         0,   0,   0,   0,   0,   0,   0,   0,   0,   0,   0,   0,   0,\n",
       "         0,   0,   0,   0,   0,   0,   0,   0,   0,   0,   0,   0,   0,\n",
       "         0,   0,   0,   0,   0,   0,   0,   0,   0,   0,   0,   0,   0,\n",
       "         0,   0,   0,   0,   0,   0,   0,   0,   0,   0,   0,   0,   0,\n",
       "         0,   0,   0,   0,   0,   0,   0,   0,   0,   0,   0,   0,   0,\n",
       "         0,   0,   0,   0], dtype=uint8)"
      ]
     },
     "execution_count": 380,
     "metadata": {},
     "output_type": "execute_result"
    }
   ],
   "source": [
    "import torchvision\n",
    "import os\n",
    "import struct\n",
    "import numpy as np\n",
    "from torch.utils import data\n",
    "#打开文件\n",
    "def load_data(path, kind='train'):\n",
    "    #获取标签和数据位置\n",
    "    labels_path = os.path.join(path,'%s-labels.idx1-ubyte'% kind)\n",
    "    images_path = os.path.join(path,'%s-images.idx3-ubyte'% kind)\n",
    "    \n",
    "    #打开标签文件\n",
    "    with open(labels_path, 'rb') as lbpath:\n",
    "        magic, n = struct.unpack('>II',lbpath.read(8))\n",
    "        labels = np.fromfile(lbpath,dtype=np.uint8)\n",
    "\n",
    "    #打开图片文件\n",
    "    with open(images_path, 'rb') as imgpath:\n",
    "        magic, num, rows, cols = struct.unpack('>IIII',imgpath.read(16))\n",
    "        images = np.fromfile(imgpath,dtype=np.uint8).reshape(len(labels), 784)\n",
    "\n",
    "    return images, labels\n",
    "\n",
    "#打开训练文件\n",
    "images_train_data,labels_train_data=load_data(\"data/MNIST/\", kind='train')\n",
    "#打开测试文件\n",
    "images_test_data,labels_test_data=load_data(\"data/MNIST/\", kind='t10k')\n",
    "images_train_data[0]"
   ]
  },
  {
   "attachments": {},
   "cell_type": "markdown",
   "metadata": {},
   "source": [
    "#### 显示部分数据"
   ]
  },
  {
   "cell_type": "code",
   "execution_count": 381,
   "metadata": {},
   "outputs": [
    {
     "data": {
      "image/png": "[encoded data removed]",
      "text/plain": [
       "<Figure size 432x288 with 50 Axes>"
      ]
     },
     "metadata": {},
     "output_type": "display_data"
    }
   ],
   "source": [
    "import matplotlib.pyplot as plt\n",
    "#定义子图\n",
    "fig, ax = plt.subplots(nrows=5,ncols=10,sharex=True,sharey=True)\n",
    "#展平子图数组\n",
    "ax = ax.flatten()\n",
    "for i in range(50):\n",
    "    #将数据转成像素矩阵\n",
    "    img = images_train_data[i].reshape(28, 28)\n",
    "    #显示子图\n",
    "    ax[i].imshow(img, cmap='Greys', interpolation='nearest')\n",
    "    #显示子图标题\n",
    "    ax[i].set_title(labels_train_data[i])\n",
    "#不显示坐标轴\n",
    "ax[0].set_xticks([])\n",
    "ax[0].set_yticks([])\n",
    "#显示子图\n",
    "plt.tight_layout()\n",
    "plt.show()"
   ]
  },
  {
   "attachments": {},
   "cell_type": "markdown",
   "metadata": {},
   "source": [
    "#### 规范化"
   ]
  },
  {
   "cell_type": "code",
   "execution_count": 382,
   "metadata": {},
   "outputs": [],
   "source": [
    "#归一化图片\n",
    "#训练集\n",
    "images_train_data=torch.tensor(images_train_data/255)\n",
    "#print(images_train_data[1])\n",
    "#测试集\n",
    "images_test_data=torch.tensor(images_test_data/255)\n",
    "#print(images_test_data[1])\n",
    "#标签转为独热编码\n",
    "import torch.nn.functional as F\n",
    "#训练集\n",
    "labels_train_data=F.one_hot(torch.tensor(labels_train_data).to(torch.int64),num_classes=10).to(torch.float64)\n",
    "#print(labels_train_data[1])\n",
    "#测试集(这里不用转不然预测模型时还得转回来)\n",
    "labels_test_data=F.one_hot(torch.tensor(labels_test_data).to(torch.int64),num_classes=10).to(torch.float64)\n",
    "#print(labels_test_data[1])"
   ]
  },
  {
   "attachments": {},
   "cell_type": "markdown",
   "metadata": {},
   "source": [
    "#### 抽样"
   ]
  },
  {
   "cell_type": "code",
   "execution_count": 383,
   "metadata": {},
   "outputs": [],
   "source": [
    "### 抽样数量\n",
    "random_sampling_num=10\n",
    "#随机抽样\n",
    "def random_sampling(input_data,num,rand=True):\n",
    "    getdata=data.TensorDataset(*input_data)\n",
    "    return data.DataLoader(getdata,num,shuffle=rand)\n",
    "\n",
    "### 训练数据抽样\n",
    "train= random_sampling((images_train_data,labels_train_data),10)\n",
    "test = random_sampling((images_test_data,labels_test_data),10)\n",
    "\n",
    "#a,b=next(iter(train))\n",
    "#print(len(a),len(b))"
   ]
  },
  {
   "attachments": {},
   "cell_type": "markdown",
   "metadata": {},
   "source": [
    "### 定义模型"
   ]
  },
  {
   "cell_type": "code",
   "execution_count": 384,
   "metadata": {},
   "outputs": [
    {
     "data": {
      "text/plain": [
       "Sequential(\n",
       "  (0): Flatten(start_dim=1, end_dim=-1)\n",
       "  (1): Linear(in_features=784, out_features=10, bias=True)\n",
       ")"
      ]
     },
     "execution_count": 384,
     "metadata": {},
     "output_type": "execute_result"
    }
   ],
   "source": [
    "#将矩阵展平输入，输出10个\n",
    "from torch import nn\n",
    "net=nn.Sequential(nn.Flatten().to(torch.float64),nn.Linear(28*28,10).to(torch.float64))\n",
    "def init_weight(m):\n",
    "    if type(m)==nn.Linear:\n",
    "        nn.init.normal_(m.weight,std=0.01)\n",
    "net.apply(init_weight)"
   ]
  },
  {
   "attachments": {},
   "cell_type": "markdown",
   "metadata": {},
   "source": [
    "### 损失函数"
   ]
  },
  {
   "cell_type": "code",
   "execution_count": 385,
   "metadata": {},
   "outputs": [],
   "source": [
    "loss=nn.CrossEntropyLoss(reduction=\"none\")"
   ]
  },
  {
   "attachments": {},
   "cell_type": "markdown",
   "metadata": {},
   "source": [
    "### 梯度下降"
   ]
  },
  {
   "cell_type": "code",
   "execution_count": 386,
   "metadata": {},
   "outputs": [],
   "source": [
    "### 学习率\n",
    "lr=0.1\n",
    "trainer=torch.optim.SGD(net.parameters(),lr=lr)"
   ]
  },
  {
   "attachments": {},
   "cell_type": "markdown",
   "metadata": {},
   "source": [
    "### 计算正确率"
   ]
  },
  {
   "cell_type": "code",
   "execution_count": 387,
   "metadata": {},
   "outputs": [],
   "source": [
    "def rigth_rate(y_guess,y):\n",
    "    if len(y_guess)>1 and len(y)>1:\n",
    "        y_guess=y_guess.argmax(axis=1)\n",
    "        cmp =y_guess.type(y.dtype) == y\n",
    "    return float(cmp.type(y.dtype).sum())"
   ]
  },
  {
   "attachments": {},
   "cell_type": "markdown",
   "metadata": {},
   "source": [
    "## 训练"
   ]
  },
  {
   "attachments": {},
   "cell_type": "markdown",
   "metadata": {},
   "source": [
    "#### 循环样本 训练一次的模型"
   ]
  },
  {
   "cell_type": "code",
   "execution_count": 388,
   "metadata": {},
   "outputs": [],
   "source": [
    "def training_once_model(net, train_iter, loss, updater):\n",
    "    #将model设置为训练模式\n",
    "    if isinstance(net,torch.nn.Module):\n",
    "        net.train()\n",
    "    # 计算训练损失总和、训练准确度总和、样本数\n",
    "    #创建累加器\n",
    "    addtion=[0.0]*3\n",
    "    for x,y in train_iter:\n",
    "        #预测\n",
    "        y_guess=net(x)\n",
    "        #损失\n",
    "        l=loss(y_guess,y)\n",
    "        #使用内置优化器和损失\n",
    "        #if isinstance(updater,torch.optim.Optimizer):\n",
    "        updater.zero_grad()\n",
    "        l.mean().backward()\n",
    "        updater.step()\n",
    "        #else:\n",
    "        # 使⽤定制的优化器和损失函数\n",
    "        #l.sum().backward()\n",
    "        #updater(X.shape[0])\n",
    "        addtion[0]+=float(l.sum())\n",
    "        addtion[1]+=rigth_rate(y_guess,y)\n",
    "        addtion[2]+=y.numel()\n",
    "    #      训练损失总和/样本数   ; 训练准确度总和/样本数\n",
    "    return addtion[0]/addtion[2],addtion[1]/addtion[2]"
   ]
  },
  {
   "attachments": {},
   "cell_type": "markdown",
   "metadata": {},
   "source": [
    "#### 训练输入\n",
    "+    主观概率为Q的观察者在看到根据概率P⽣成的数据时的预期惊异\n",
    "+    （i）最⼤化观测数据的似然；（ii）最⼩化传达标签所需的惊异"
   ]
  },
  {
   "cell_type": "code",
   "execution_count": 389,
   "metadata": {},
   "outputs": [],
   "source": [
    "def training_input(net,train_iter,loss,learnmun,updatew):\n",
    "    for learn in range(learnmun):\n",
    "        train_once= training_once_model(net,train_iter,loss,updatew)\n",
    "    #获得得分损失率和准确率\n",
    "    train_loss, train_acc = train_once\n",
    "    assert train_loss < 0.5, train_loss\n",
    "    assert train_acc <= 1 and train_acc > 0.7, train_acc\n"
   ]
  },
  {
   "cell_type": "code",
   "execution_count": 390,
   "metadata": {},
   "outputs": [
    {
     "ename": "AssertionError",
     "evalue": "0.10065166666666667",
     "output_type": "error",
     "traceback": [
      "\u001b[1;31m---------------------------------------------------------------------------\u001b[0m",
      "\u001b[1;31mAssertionError\u001b[0m                            Traceback (most recent call last)",
      "\u001b[1;32mc:\\Users\\Tom Huang\\Desktop\\Deep_Learning\\softmax\\softmax_train1.ipynb 单元格 24\u001b[0m in \u001b[0;36m<cell line: 1>\u001b[1;34m()\u001b[0m\n\u001b[1;32m----> <a href='vscode-notebook-cell:/c%3A/Users/Tom%20Huang/Desktop/Deep_Learning/softmax/softmax_train1.ipynb#X43sZmlsZQ%3D%3D?line=0'>1</a>\u001b[0m training_input(net\u001b[39m=\u001b[39;49mnet,train_iter\u001b[39m=\u001b[39;49mtrain,loss\u001b[39m=\u001b[39;49mloss,learnmun\u001b[39m=\u001b[39;49m\u001b[39m10\u001b[39;49m,updatew\u001b[39m=\u001b[39;49mtrainer)\n",
      "\u001b[1;32mc:\\Users\\Tom Huang\\Desktop\\Deep_Learning\\softmax\\softmax_train1.ipynb 单元格 24\u001b[0m in \u001b[0;36mtraining_input\u001b[1;34m(net, train_iter, loss, learnmun, updatew)\u001b[0m\n\u001b[0;32m      <a href='vscode-notebook-cell:/c%3A/Users/Tom%20Huang/Desktop/Deep_Learning/softmax/softmax_train1.ipynb#X43sZmlsZQ%3D%3D?line=4'>5</a>\u001b[0m train_loss, train_acc \u001b[39m=\u001b[39m train_once\n\u001b[0;32m      <a href='vscode-notebook-cell:/c%3A/Users/Tom%20Huang/Desktop/Deep_Learning/softmax/softmax_train1.ipynb#X43sZmlsZQ%3D%3D?line=5'>6</a>\u001b[0m \u001b[39massert\u001b[39;00m train_loss \u001b[39m<\u001b[39m \u001b[39m0.5\u001b[39m, train_loss\n\u001b[1;32m----> <a href='vscode-notebook-cell:/c%3A/Users/Tom%20Huang/Desktop/Deep_Learning/softmax/softmax_train1.ipynb#X43sZmlsZQ%3D%3D?line=6'>7</a>\u001b[0m \u001b[39massert\u001b[39;00m train_acc \u001b[39m<\u001b[39m\u001b[39m=\u001b[39m \u001b[39m1\u001b[39m \u001b[39mand\u001b[39;00m train_acc \u001b[39m>\u001b[39m \u001b[39m0.7\u001b[39m, train_acc\n",
      "\u001b[1;31mAssertionError\u001b[0m: 0.10065166666666667"
     ]
    }
   ],
   "source": [
    "training_input(net=net,train_iter=train,loss=loss,learnmun=10,updatew=trainer)"
   ]
  },
  {
   "attachments": {},
   "cell_type": "markdown",
   "metadata": {},
   "source": [
    "## 预测"
   ]
  },
  {
   "cell_type": "code",
   "execution_count": 404,
   "metadata": {},
   "outputs": [],
   "source": [
    "def predict(net,iter):\n",
    "    for x,y in iter:\n",
    "        break\n",
    "    trues = y\n",
    "    preds =net(x).argmax(axis=1)\n",
    "    return x,preds,trues"
   ]
  },
  {
   "cell_type": "code",
   "execution_count": 405,
   "metadata": {},
   "outputs": [
    {
     "name": "stdout",
     "output_type": "stream",
     "text": [
      "tensor([4, 2, 8, 2, 1, 6, 6, 6, 0, 9])\n"
     ]
    }
   ],
   "source": [
    "x,preds,trues=predict(net,test)\n",
    "print(preds)"
   ]
  },
  {
   "cell_type": "code",
   "execution_count": 406,
   "metadata": {},
   "outputs": [
    {
     "data": {
      "image/png": "[encoded data removed]",
      "text/plain": [
       "<Figure size 432x288 with 10 Axes>"
      ]
     },
     "metadata": {},
     "output_type": "display_data"
    }
   ],
   "source": [
    "import matplotlib.pyplot as plt\n",
    "#定义子图\n",
    "fig, ax = plt.subplots(nrows=5,ncols=2,sharex=True,sharey=True)\n",
    "#展平子图数组\n",
    "ax = ax.flatten()\n",
    "for i in range(10):\n",
    "    #将数据转成像素矩阵\n",
    "    img = x[i].reshape(28, 28)\n",
    "    #显示子图\n",
    "    ax[i].imshow(img, cmap='Greys', interpolation='nearest')\n",
    "    #显示子图标题\n",
    "    ax[i].set_title(labels_test_data[i])\n",
    "#不显示坐标轴\n",
    "ax[0].set_xticks([])\n",
    "ax[0].set_yticks([])\n",
    "#显示子图\n",
    "plt.tight_layout()\n",
    "plt.show()"
   ]
  }
 ],
 "metadata": {
  "kernelspec": {
   "display_name": "Python 3",
   "language": "python",
   "name": "python3"
  },
  "language_info": {
   "codemirror_mode": {
    "name": "ipython",
    "version": 3
   },
   "file_extension": ".py",
   "mimetype": "text/x-python",
   "name": "python",
   "nbconvert_exporter": "python",
   "pygments_lexer": "ipython3",
   "version": "3.9.7"
  },
  "orig_nbformat": 4
 },
 "nbformat": 4,
 "nbformat_minor": 2
}
