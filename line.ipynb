{
 "cells": [
  {
   "cell_type": "code",
   "execution_count": 1538,
   "metadata": {},
   "outputs": [],
   "source": [
    "import random\n",
    "import torch\n",
    "import math\n",
    "import matplotlib.pyplot as plt"
   ]
  },
  {
   "attachments": {},
   "cell_type": "markdown",
   "metadata": {},
   "source": [
    "#### 生成数据集 \n",
    "y= **Xw** + b + c(噪声满足正态分布) \n",
    "+ _n个样本数据集，2个特征_\n",
    "+ w=[25. -30.4] b=1000.2"
   ]
  },
  {
   "cell_type": "code",
   "execution_count": 1539,
   "metadata": {},
   "outputs": [],
   "source": [
    "def create_data(n,w,b):\n",
    "    X=torch.normal(0,1,(n,len(w)))\n",
    "    y=torch.matmul(X,w) + b\n",
    "    y=y+torch.normal(0,0.01,y.shape)\n",
    "    return X,y.reshape((-1,1))\n",
    "\n",
    "x,y=create_data(1000,torch.tensor([1.2,-1.4]),0.2)"
   ]
  },
  {
   "attachments": {},
   "cell_type": "markdown",
   "metadata": {},
   "source": [
    "#### 绘图函数"
   ]
  },
  {
   "cell_type": "code",
   "execution_count": 1540,
   "metadata": {},
   "outputs": [],
   "source": [
    "def polt_style(axlim=[0,10],color='bule', title='Figure',ylabel='Y', xlabel='X',subplot=111):\n",
    "    fig = plt.figure()\n",
    "    ax = fig.add_subplot(subplot)\n",
    "    ax.set(xlim=axlim, ylim=axlim,title=title,ylabel=ylabel, xlabel=xlabel)\n",
    "    return ax"
   ]
  },
  {
   "cell_type": "code",
   "execution_count": 1541,
   "metadata": {},
   "outputs": [
    {
     "data": {
      "text/plain": [
       "<matplotlib.collections.PathCollection at 0x1f49eb59550>"
      ]
     },
     "execution_count": 1541,
     "metadata": {},
     "output_type": "execute_result"
    },
    {
     "data": {
      "image/png": "[encoded data removed]",
      "text/plain": [
       "<Figure size 432x288 with 1 Axes>"
      ]
     },
     "metadata": {
      "needs_background": "light"
     },
     "output_type": "display_data"
    },
    {
     "data": {
      "image/png": "[encoded data removed]",
      "text/plain": [
       "<Figure size 432x288 with 1 Axes>"
      ]
     },
     "metadata": {
      "needs_background": "light"
     },
     "output_type": "display_data"
    }
   ],
   "source": [
    "polt_style(axlim=[-10,15],subplot=221).scatter(x[:, 1].detach().numpy(), y.detach().numpy(), 1)\n",
    "polt_style(axlim=[-10,15],subplot=222).scatter(x[:, 0].detach().numpy(), y.detach().numpy(), 1)"
   ]
  },
  {
   "attachments": {},
   "cell_type": "markdown",
   "metadata": {},
   "source": [
    "#### 读取数据集\n",
    "每次抽取⼀⼩批量样本，并使⽤它们来更新我们的模型"
   ]
  },
  {
   "cell_type": "code",
   "execution_count": 1542,
   "metadata": {},
   "outputs": [],
   "source": [
    "def read_minexamples(num,x,y):\n",
    "    #随机化抽样序列\n",
    "    array=list(range(len(x)))\n",
    "    random.shuffle(array)\n",
    "    #抽样\n",
    "    for i in range(0,len(x),num):\n",
    "        #每次抽样num个\n",
    "        getarray = torch.tensor(\n",
    "        array[i:min(i + num, len(x))])\n",
    "        #迭代\n",
    "        yield x[getarray],y[getarray]"
   ]
  },
  {
   "attachments": {},
   "cell_type": "markdown",
   "metadata": {},
   "source": [
    "#### 初始化模型参数\n",
    "+ 初始化权重w\n",
    "+ 初始化偏置b"
   ]
  },
  {
   "cell_type": "code",
   "execution_count": 1543,
   "metadata": {},
   "outputs": [
    {
     "name": "stdout",
     "output_type": "stream",
     "text": [
      "tensor([[0.0169],\n",
      "        [0.0086]], requires_grad=True) tensor([0.], requires_grad=True)\n"
     ]
    }
   ],
   "source": [
    "w = torch.normal(0, 0.01, size=(2,1), requires_grad=True)\n",
    "b = torch.zeros(1, requires_grad=True)\n",
    "print(w,b)"
   ]
  },
  {
   "attachments": {},
   "cell_type": "markdown",
   "metadata": {},
   "source": [
    "#### 定义模型"
   ]
  },
  {
   "cell_type": "code",
   "execution_count": 1544,
   "metadata": {},
   "outputs": [],
   "source": [
    "def line(w,x,b):\n",
    "    return torch.matmul(x,w)+b"
   ]
  },
  {
   "attachments": {},
   "cell_type": "markdown",
   "metadata": {},
   "source": [
    "#### 定义损失函数\n",
    "+ 平方差损失"
   ]
  },
  {
   "cell_type": "code",
   "execution_count": 1545,
   "metadata": {},
   "outputs": [],
   "source": [
    "def loss(y_guess,y):\n",
    "    #print(y_guess,y,1/2*((y_guess-y)**2).sum())\n",
    "    return (y_guess-y.reshape(y_guess.shape))**2/2\n"
   ]
  },
  {
   "attachments": {},
   "cell_type": "markdown",
   "metadata": {},
   "source": [
    "#### 反向传播梯度，\n",
    "+ 小批量随机梯度下降\n",
    "+ 学习速率learnr\n",
    "+ p需要偏导参数\n",
    "+ num步长，抽样数量\n",
    "+ **-=** **如果不这样处理偏导会消失**，无法进行梯度下降"
   ]
  },
  {
   "cell_type": "code",
   "execution_count": 1546,
   "metadata": {},
   "outputs": [],
   "source": [
    "def sgd(p, learnr, num):\n",
    "    with torch.no_grad():\n",
    "        for pi in p:\n",
    "            pi -= learnr * pi.grad / num\n",
    "            pi.grad.zero_()\n",
    "    "
   ]
  },
  {
   "attachments": {},
   "cell_type": "markdown",
   "metadata": {},
   "source": [
    "#### 学习\n",
    "1. 初始化参数\n",
    "2. 重复训练\n",
    "    1. 计算梯度\n",
    "    2. 更新权重"
   ]
  },
  {
   "cell_type": "code",
   "execution_count": 1547,
   "metadata": {},
   "outputs": [],
   "source": [
    "#学习率\n",
    "learnr=0.03\n",
    "#循环训练次数\n",
    "learn_num=100\n",
    "#抽样个数\n",
    "minnum = 10"
   ]
  },
  {
   "cell_type": "code",
   "execution_count": 1548,
   "metadata": {},
   "outputs": [
    {
     "name": "stdout",
     "output_type": "stream",
     "text": [
      "num 1, loss 0.004288\n",
      "tensor([[ 1.1466],\n",
      "        [-1.3230]], requires_grad=True) \t tensor([0.1954], requires_grad=True)\n",
      "num 2, loss 0.000058\n",
      "tensor([[ 1.1974],\n",
      "        [-1.3952]], requires_grad=True) \t tensor([0.2002], requires_grad=True)\n",
      "num 3, loss 0.000045\n",
      "tensor([[ 1.1996],\n",
      "        [-1.3995]], requires_grad=True) \t tensor([0.2000], requires_grad=True)\n",
      "num 4, loss 0.000046\n",
      "tensor([[ 1.1995],\n",
      "        [-1.3996]], requires_grad=True) \t tensor([0.2004], requires_grad=True)\n",
      "num 5, loss 0.000045\n",
      "tensor([[ 1.1999],\n",
      "        [-1.3995]], requires_grad=True) \t tensor([0.2002], requires_grad=True)\n",
      "num 6, loss 0.000045\n",
      "tensor([[ 1.2003],\n",
      "        [-1.3997]], requires_grad=True) \t tensor([0.1999], requires_grad=True)\n",
      "num 7, loss 0.000046\n",
      "tensor([[ 1.2004],\n",
      "        [-1.3994]], requires_grad=True) \t tensor([0.2003], requires_grad=True)\n",
      "num 8, loss 0.000046\n",
      "tensor([[ 1.2004],\n",
      "        [-1.3996]], requires_grad=True) \t tensor([0.2003], requires_grad=True)\n",
      "num 9, loss 0.000045\n",
      "tensor([[ 1.2001],\n",
      "        [-1.3996]], requires_grad=True) \t tensor([0.1999], requires_grad=True)\n",
      "num 10, loss 0.000046\n",
      "tensor([[ 1.2000],\n",
      "        [-1.3997]], requires_grad=True) \t tensor([0.1996], requires_grad=True)\n",
      "num 11, loss 0.000045\n",
      "tensor([[ 1.1997],\n",
      "        [-1.3997]], requires_grad=True) \t tensor([0.1999], requires_grad=True)\n",
      "num 12, loss 0.000046\n",
      "tensor([[ 1.2001],\n",
      "        [-1.3999]], requires_grad=True) \t tensor([0.1998], requires_grad=True)\n",
      "num 13, loss 0.000046\n",
      "tensor([[ 1.1998],\n",
      "        [-1.4000]], requires_grad=True) \t tensor([0.1998], requires_grad=True)\n",
      "num 14, loss 0.000045\n",
      "tensor([[ 1.1998],\n",
      "        [-1.3997]], requires_grad=True) \t tensor([0.2003], requires_grad=True)\n",
      "num 15, loss 0.000045\n",
      "tensor([[ 1.1998],\n",
      "        [-1.3999]], requires_grad=True) \t tensor([0.2001], requires_grad=True)\n",
      "num 16, loss 0.000045\n",
      "tensor([[ 1.2002],\n",
      "        [-1.3997]], requires_grad=True) \t tensor([0.2001], requires_grad=True)\n",
      "num 17, loss 0.000046\n",
      "tensor([[ 1.1997],\n",
      "        [-1.3996]], requires_grad=True) \t tensor([0.1997], requires_grad=True)\n",
      "num 18, loss 0.000045\n",
      "tensor([[ 1.1997],\n",
      "        [-1.3995]], requires_grad=True) \t tensor([0.1999], requires_grad=True)\n",
      "num 19, loss 0.000045\n",
      "tensor([[ 1.1997],\n",
      "        [-1.3995]], requires_grad=True) \t tensor([0.2002], requires_grad=True)\n",
      "num 20, loss 0.000046\n",
      "tensor([[ 1.2000],\n",
      "        [-1.3993]], requires_grad=True) \t tensor([0.2003], requires_grad=True)\n",
      "num 21, loss 0.000046\n",
      "tensor([[ 1.2005],\n",
      "        [-1.3998]], requires_grad=True) \t tensor([0.1999], requires_grad=True)\n",
      "num 22, loss 0.000045\n",
      "tensor([[ 1.2000],\n",
      "        [-1.3995]], requires_grad=True) \t tensor([0.2002], requires_grad=True)\n",
      "num 23, loss 0.000046\n",
      "tensor([[ 1.1995],\n",
      "        [-1.3995]], requires_grad=True) \t tensor([0.2002], requires_grad=True)\n",
      "num 24, loss 0.000046\n",
      "tensor([[ 1.1994],\n",
      "        [-1.3997]], requires_grad=True) \t tensor([0.2000], requires_grad=True)\n",
      "num 25, loss 0.000045\n",
      "tensor([[ 1.1998],\n",
      "        [-1.3994]], requires_grad=True) \t tensor([0.2002], requires_grad=True)\n",
      "num 26, loss 0.000045\n",
      "tensor([[ 1.1999],\n",
      "        [-1.3998]], requires_grad=True) \t tensor([0.2000], requires_grad=True)\n",
      "num 27, loss 0.000045\n",
      "tensor([[ 1.1997],\n",
      "        [-1.3996]], requires_grad=True) \t tensor([0.2003], requires_grad=True)\n",
      "num 28, loss 0.000045\n",
      "tensor([[ 1.1998],\n",
      "        [-1.3995]], requires_grad=True) \t tensor([0.1999], requires_grad=True)\n",
      "num 29, loss 0.000045\n",
      "tensor([[ 1.2001],\n",
      "        [-1.3997]], requires_grad=True) \t tensor([0.1999], requires_grad=True)\n",
      "num 30, loss 0.000045\n",
      "tensor([[ 1.2001],\n",
      "        [-1.3998]], requires_grad=True) \t tensor([0.2001], requires_grad=True)\n",
      "num 31, loss 0.000045\n",
      "tensor([[ 1.1999],\n",
      "        [-1.3999]], requires_grad=True) \t tensor([0.2003], requires_grad=True)\n",
      "num 32, loss 0.000046\n",
      "tensor([[ 1.1994],\n",
      "        [-1.4002]], requires_grad=True) \t tensor([0.2002], requires_grad=True)\n",
      "num 33, loss 0.000045\n",
      "tensor([[ 1.2002],\n",
      "        [-1.3998]], requires_grad=True) \t tensor([0.1999], requires_grad=True)\n",
      "num 34, loss 0.000046\n",
      "tensor([[ 1.1996],\n",
      "        [-1.4001]], requires_grad=True) \t tensor([0.2000], requires_grad=True)\n",
      "num 35, loss 0.000046\n",
      "tensor([[ 1.1996],\n",
      "        [-1.3995]], requires_grad=True) \t tensor([0.2002], requires_grad=True)\n",
      "num 36, loss 0.000046\n",
      "tensor([[ 1.2004],\n",
      "        [-1.4001]], requires_grad=True) \t tensor([0.2002], requires_grad=True)\n",
      "num 37, loss 0.000046\n",
      "tensor([[ 1.2002],\n",
      "        [-1.3994]], requires_grad=True) \t tensor([0.1999], requires_grad=True)\n",
      "num 38, loss 0.000045\n",
      "tensor([[ 1.2002],\n",
      "        [-1.3996]], requires_grad=True) \t tensor([0.2000], requires_grad=True)\n",
      "num 39, loss 0.000045\n",
      "tensor([[ 1.2000],\n",
      "        [-1.3998]], requires_grad=True) \t tensor([0.1999], requires_grad=True)\n",
      "num 40, loss 0.000046\n",
      "tensor([[ 1.2003],\n",
      "        [-1.3994]], requires_grad=True) \t tensor([0.2001], requires_grad=True)\n",
      "num 41, loss 0.000046\n",
      "tensor([[ 1.1995],\n",
      "        [-1.3998]], requires_grad=True) \t tensor([0.2002], requires_grad=True)\n",
      "num 42, loss 0.000045\n",
      "tensor([[ 1.2000],\n",
      "        [-1.3999]], requires_grad=True) \t tensor([0.2003], requires_grad=True)\n",
      "num 43, loss 0.000046\n",
      "tensor([[ 1.2000],\n",
      "        [-1.3992]], requires_grad=True) \t tensor([0.2000], requires_grad=True)\n",
      "num 44, loss 0.000045\n",
      "tensor([[ 1.1998],\n",
      "        [-1.3994]], requires_grad=True) \t tensor([0.2000], requires_grad=True)\n",
      "num 45, loss 0.000046\n",
      "tensor([[ 1.1996],\n",
      "        [-1.4000]], requires_grad=True) \t tensor([0.2003], requires_grad=True)\n",
      "num 46, loss 0.000046\n",
      "tensor([[ 1.1995],\n",
      "        [-1.3998]], requires_grad=True) \t tensor([0.1996], requires_grad=True)\n",
      "num 47, loss 0.000045\n",
      "tensor([[ 1.2003],\n",
      "        [-1.3997]], requires_grad=True) \t tensor([0.1999], requires_grad=True)\n",
      "num 48, loss 0.000046\n",
      "tensor([[ 1.1996],\n",
      "        [-1.3994]], requires_grad=True) \t tensor([0.2005], requires_grad=True)\n",
      "num 49, loss 0.000045\n",
      "tensor([[ 1.1997],\n",
      "        [-1.3995]], requires_grad=True) \t tensor([0.2000], requires_grad=True)\n",
      "num 50, loss 0.000045\n",
      "tensor([[ 1.1998],\n",
      "        [-1.3998]], requires_grad=True) \t tensor([0.2001], requires_grad=True)\n",
      "num 51, loss 0.000045\n",
      "tensor([[ 1.1998],\n",
      "        [-1.3996]], requires_grad=True) \t tensor([0.2002], requires_grad=True)\n",
      "num 52, loss 0.000045\n",
      "tensor([[ 1.1999],\n",
      "        [-1.3995]], requires_grad=True) \t tensor([0.2003], requires_grad=True)\n",
      "num 53, loss 0.000045\n",
      "tensor([[ 1.2003],\n",
      "        [-1.3997]], requires_grad=True) \t tensor([0.2000], requires_grad=True)\n",
      "num 54, loss 0.000045\n",
      "tensor([[ 1.2003],\n",
      "        [-1.3996]], requires_grad=True) \t tensor([0.2001], requires_grad=True)\n",
      "num 55, loss 0.000045\n",
      "tensor([[ 1.1999],\n",
      "        [-1.3995]], requires_grad=True) \t tensor([0.2001], requires_grad=True)\n",
      "num 56, loss 0.000045\n",
      "tensor([[ 1.2002],\n",
      "        [-1.3999]], requires_grad=True) \t tensor([0.2001], requires_grad=True)\n",
      "num 57, loss 0.000045\n",
      "tensor([[ 1.1999],\n",
      "        [-1.3996]], requires_grad=True) \t tensor([0.2000], requires_grad=True)\n",
      "num 58, loss 0.000045\n",
      "tensor([[ 1.1998],\n",
      "        [-1.3999]], requires_grad=True) \t tensor([0.2000], requires_grad=True)\n",
      "num 59, loss 0.000046\n",
      "tensor([[ 1.2003],\n",
      "        [-1.3997]], requires_grad=True) \t tensor([0.2001], requires_grad=True)\n",
      "num 60, loss 0.000045\n",
      "tensor([[ 1.2000],\n",
      "        [-1.3995]], requires_grad=True) \t tensor([0.2004], requires_grad=True)\n",
      "num 61, loss 0.000045\n",
      "tensor([[ 1.1999],\n",
      "        [-1.3998]], requires_grad=True) \t tensor([0.2001], requires_grad=True)\n",
      "num 62, loss 0.000046\n",
      "tensor([[ 1.2003],\n",
      "        [-1.3998]], requires_grad=True) \t tensor([0.1998], requires_grad=True)\n",
      "num 63, loss 0.000046\n",
      "tensor([[ 1.2003],\n",
      "        [-1.3995]], requires_grad=True) \t tensor([0.2005], requires_grad=True)\n",
      "num 64, loss 0.000046\n",
      "tensor([[ 1.2001],\n",
      "        [-1.3996]], requires_grad=True) \t tensor([0.1995], requires_grad=True)\n",
      "num 65, loss 0.000046\n",
      "tensor([[ 1.2001],\n",
      "        [-1.3999]], requires_grad=True) \t tensor([0.1999], requires_grad=True)\n",
      "num 66, loss 0.000045\n",
      "tensor([[ 1.1999],\n",
      "        [-1.3999]], requires_grad=True) \t tensor([0.1998], requires_grad=True)\n",
      "num 67, loss 0.000045\n",
      "tensor([[ 1.1999],\n",
      "        [-1.3994]], requires_grad=True) \t tensor([0.2000], requires_grad=True)\n",
      "num 68, loss 0.000045\n",
      "tensor([[ 1.2000],\n",
      "        [-1.3997]], requires_grad=True) \t tensor([0.2000], requires_grad=True)\n",
      "num 69, loss 0.000045\n",
      "tensor([[ 1.2001],\n",
      "        [-1.3994]], requires_grad=True) \t tensor([0.1998], requires_grad=True)\n",
      "num 70, loss 0.000046\n",
      "tensor([[ 1.1995],\n",
      "        [-1.3997]], requires_grad=True) \t tensor([0.2003], requires_grad=True)\n",
      "num 71, loss 0.000046\n",
      "tensor([[ 1.1995],\n",
      "        [-1.3993]], requires_grad=True) \t tensor([0.1998], requires_grad=True)\n",
      "num 72, loss 0.000045\n",
      "tensor([[ 1.1998],\n",
      "        [-1.3997]], requires_grad=True) \t tensor([0.2001], requires_grad=True)\n",
      "num 73, loss 0.000045\n",
      "tensor([[ 1.1998],\n",
      "        [-1.3997]], requires_grad=True) \t tensor([0.2002], requires_grad=True)\n",
      "num 74, loss 0.000046\n",
      "tensor([[ 1.1998],\n",
      "        [-1.3998]], requires_grad=True) \t tensor([0.1995], requires_grad=True)\n",
      "num 75, loss 0.000046\n",
      "tensor([[ 1.2001],\n",
      "        [-1.3993]], requires_grad=True) \t tensor([0.2004], requires_grad=True)\n",
      "num 76, loss 0.000045\n",
      "tensor([[ 1.2001],\n",
      "        [-1.3999]], requires_grad=True) \t tensor([0.2001], requires_grad=True)\n",
      "num 77, loss 0.000046\n",
      "tensor([[ 1.2003],\n",
      "        [-1.3994]], requires_grad=True) \t tensor([0.1997], requires_grad=True)\n",
      "num 78, loss 0.000045\n",
      "tensor([[ 1.2000],\n",
      "        [-1.3993]], requires_grad=True) \t tensor([0.1999], requires_grad=True)\n",
      "num 79, loss 0.000045\n",
      "tensor([[ 1.2000],\n",
      "        [-1.3994]], requires_grad=True) \t tensor([0.2001], requires_grad=True)\n",
      "num 80, loss 0.000045\n",
      "tensor([[ 1.1998],\n",
      "        [-1.3997]], requires_grad=True) \t tensor([0.1998], requires_grad=True)\n",
      "num 81, loss 0.000046\n",
      "tensor([[ 1.2005],\n",
      "        [-1.3995]], requires_grad=True) \t tensor([0.2006], requires_grad=True)\n",
      "num 82, loss 0.000046\n",
      "tensor([[ 1.1997],\n",
      "        [-1.3996]], requires_grad=True) \t tensor([0.1996], requires_grad=True)\n",
      "num 83, loss 0.000046\n",
      "tensor([[ 1.1997],\n",
      "        [-1.4001]], requires_grad=True) \t tensor([0.1997], requires_grad=True)\n",
      "num 84, loss 0.000046\n",
      "tensor([[ 1.1998],\n",
      "        [-1.3996]], requires_grad=True) \t tensor([0.1994], requires_grad=True)\n",
      "num 85, loss 0.000045\n",
      "tensor([[ 1.2001],\n",
      "        [-1.3999]], requires_grad=True) \t tensor([0.1999], requires_grad=True)\n",
      "num 86, loss 0.000045\n",
      "tensor([[ 1.1999],\n",
      "        [-1.3996]], requires_grad=True) \t tensor([0.2003], requires_grad=True)\n",
      "num 87, loss 0.000045\n",
      "tensor([[ 1.2001],\n",
      "        [-1.3996]], requires_grad=True) \t tensor([0.2003], requires_grad=True)\n",
      "num 88, loss 0.000045\n",
      "tensor([[ 1.1999],\n",
      "        [-1.3997]], requires_grad=True) \t tensor([0.1998], requires_grad=True)\n",
      "num 89, loss 0.000046\n",
      "tensor([[ 1.1994],\n",
      "        [-1.3995]], requires_grad=True) \t tensor([0.2000], requires_grad=True)\n",
      "num 90, loss 0.000045\n",
      "tensor([[ 1.1998],\n",
      "        [-1.3997]], requires_grad=True) \t tensor([0.2001], requires_grad=True)\n",
      "num 91, loss 0.000045\n",
      "tensor([[ 1.2000],\n",
      "        [-1.3995]], requires_grad=True) \t tensor([0.1999], requires_grad=True)\n",
      "num 92, loss 0.000046\n",
      "tensor([[ 1.1993],\n",
      "        [-1.3998]], requires_grad=True) \t tensor([0.2000], requires_grad=True)\n",
      "num 93, loss 0.000046\n",
      "tensor([[ 1.1995],\n",
      "        [-1.3999]], requires_grad=True) \t tensor([0.2005], requires_grad=True)\n",
      "num 94, loss 0.000045\n",
      "tensor([[ 1.1997],\n",
      "        [-1.3997]], requires_grad=True) \t tensor([0.2002], requires_grad=True)\n",
      "num 95, loss 0.000045\n",
      "tensor([[ 1.2001],\n",
      "        [-1.3997]], requires_grad=True) \t tensor([0.2003], requires_grad=True)\n",
      "num 96, loss 0.000046\n",
      "tensor([[ 1.1997],\n",
      "        [-1.3998]], requires_grad=True) \t tensor([0.1996], requires_grad=True)\n",
      "num 97, loss 0.000046\n",
      "tensor([[ 1.1996],\n",
      "        [-1.3995]], requires_grad=True) \t tensor([0.2000], requires_grad=True)\n",
      "num 98, loss 0.000045\n",
      "tensor([[ 1.1997],\n",
      "        [-1.3999]], requires_grad=True) \t tensor([0.2001], requires_grad=True)\n",
      "num 99, loss 0.000046\n",
      "tensor([[ 1.2002],\n",
      "        [-1.4003]], requires_grad=True) \t tensor([0.2001], requires_grad=True)\n",
      "num 100, loss 0.000045\n",
      "tensor([[ 1.2002],\n",
      "        [-1.3997]], requires_grad=True) \t tensor([0.2001], requires_grad=True)\n"
     ]
    }
   ],
   "source": [
    "for num in range(learn_num):\n",
    "    for i, j in read_minexamples(minnum, x, y):\n",
    "        #求损失\n",
    "        l = loss(line(w, i, b), j)\n",
    "        #从y反向传播\n",
    "        l.sum().backward()\n",
    "        #求梯度\n",
    "        sgd([w, b], learnr, minnum)\n",
    "    with torch.no_grad():\n",
    "        train_l = loss(line(w, x, b), y)\n",
    "    print(f'num {num + 1}, loss {float(train_l.mean()):f}')\n",
    "    print(w,'\\t',b)\n"
   ]
  }
 ],
 "metadata": {
  "kernelspec": {
   "display_name": "Python 3",
   "language": "python",
   "name": "python3"
  },
  "language_info": {
   "codemirror_mode": {
    "name": "ipython",
    "version": 3
   },
   "file_extension": ".py",
   "mimetype": "text/x-python",
   "name": "python",
   "nbconvert_exporter": "python",
   "pygments_lexer": "ipython3",
   "version": "3.9.7"
  },
  "orig_nbformat": 4,
  "vscode": {
   "interpreter": {
    "hash": "123b9932f9da79072ca55f3df90f065e94efe2c192347af71fbcdc6b42c3e4aa"
   }
  }
 },
 "nbformat": 4,
 "nbformat_minor": 2
}
