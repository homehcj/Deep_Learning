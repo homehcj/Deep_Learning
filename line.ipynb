{
 "cells": [
  {
   "cell_type": "code",
   "execution_count": 1,
   "metadata": {},
   "outputs": [],
   "source": [
    "import random\n",
    "import torch"
   ]
  },
  {
   "attachments": {},
   "cell_type": "markdown",
   "metadata": {},
   "source": [
    "#### 生成数据集 \n",
    "y= **Xw** + b + c(噪声满足正态分布) \n",
    "+ _n个样本数据集，2个特征_\n",
    "+ w=[2. -3.4] b=4"
   ]
  },
  {
   "cell_type": "code",
   "execution_count": null,
   "metadata": {},
   "outputs": [],
   "source": [
    "def create_data(n,w,b):\n",
    "    X=torch.normal(0,1,(n,len(w)))\n",
    "    y=torch.matmul(w,X)+b\n",
    "    y=y+torch.normal(0,0.01,y.shape)\n",
    "    return X,y.reshape((-1,1))\n",
    "\n",
    "x,y=create_data(1000,torch.tensor([2,-3.4]),4)\n",
    "print(x,'\\n',y)"
   ]
  },
  {
   "cell_type": "code",
   "execution_count": 3,
   "metadata": {},
   "outputs": [
    {
     "name": "stdout",
     "output_type": "stream",
     "text": [
      "\u001b[1;31mDocstring:\u001b[0m\n",
      "normal(mean, std, *, generator=None, out=None) -> Tensor\n",
      "\n",
      "Returns a tensor of random numbers drawn from separate normal distributions\n",
      "whose mean and standard deviation are given.\n",
      "\n",
      "The :attr:`mean` is a tensor with the mean of\n",
      "each output element's normal distribution\n",
      "\n",
      "The :attr:`std` is a tensor with the standard deviation of\n",
      "each output element's normal distribution\n",
      "\n",
      "The shapes of :attr:`mean` and :attr:`std` don't need to match, but the\n",
      "total number of elements in each tensor need to be the same.\n",
      "\n",
      ".. note:: When the shapes do not match, the shape of :attr:`mean`\n",
      "          is used as the shape for the returned output tensor\n",
      "\n",
      ".. note:: When :attr:`std` is a CUDA tensor, this function synchronizes\n",
      "          its device with the CPU.\n",
      "\n",
      "Args:\n",
      "    mean (Tensor): the tensor of per-element means\n",
      "    std (Tensor): the tensor of per-element standard deviations\n",
      "\n",
      "Keyword args:\n",
      "    generator (:class:`torch.Generator`, optional): a pseudorandom number generator for sampling\n",
      "    out (Tensor, optional): the output tensor.\n",
      "\n",
      "Example::\n",
      "\n",
      "    >>> torch.normal(mean=torch.arange(1., 11.), std=torch.arange(1, 0, -0.1))\n",
      "    tensor([  1.0425,   3.5672,   2.7969,   4.2925,   4.7229,   6.2134,\n",
      "              8.0505,   8.1408,   9.0563,  10.0566])\n",
      "\n",
      ".. function:: normal(mean=0.0, std, *, out=None) -> Tensor\n",
      "   :noindex:\n",
      "\n",
      "Similar to the function above, but the means are shared among all drawn\n",
      "elements.\n",
      "\n",
      "Args:\n",
      "    mean (float, optional): the mean for all distributions\n",
      "    std (Tensor): the tensor of per-element standard deviations\n",
      "\n",
      "Keyword args:\n",
      "    out (Tensor, optional): the output tensor.\n",
      "\n",
      "Example::\n",
      "\n",
      "    >>> torch.normal(mean=0.5, std=torch.arange(1., 6.))\n",
      "    tensor([-1.2793, -1.0732, -2.0687,  5.1177, -1.2303])\n",
      "\n",
      ".. function:: normal(mean, std=1.0, *, out=None) -> Tensor\n",
      "   :noindex:\n",
      "\n",
      "Similar to the function above, but the standard deviations are shared among\n",
      "all drawn elements.\n",
      "\n",
      "Args:\n",
      "    mean (Tensor): the tensor of per-element means\n",
      "    std (float, optional): the standard deviation for all distributions\n",
      "\n",
      "Keyword args:\n",
      "    out (Tensor, optional): the output tensor\n",
      "\n",
      "Example::\n",
      "\n",
      "    >>> torch.normal(mean=torch.arange(1., 6.))\n",
      "    tensor([ 1.1552,  2.6148,  2.6535,  5.8318,  4.2361])\n",
      "\n",
      ".. function:: normal(mean, std, size, *, out=None) -> Tensor\n",
      "   :noindex:\n",
      "\n",
      "Similar to the function above, but the means and standard deviations are shared\n",
      "among all drawn elements. The resulting tensor has size given by :attr:`size`.\n",
      "\n",
      "Args:\n",
      "    mean (float): the mean for all distributions\n",
      "    std (float): the standard deviation for all distributions\n",
      "    size (int...): a sequence of integers defining the shape of the output tensor.\n",
      "\n",
      "Keyword args:\n",
      "    out (Tensor, optional): the output tensor.\n",
      "\n",
      "Example::\n",
      "\n",
      "    >>> torch.normal(2, 3, size=(1, 4))\n",
      "    tensor([[-1.3987, -1.9544,  3.6048,  0.7909]])\n",
      "\u001b[1;31mType:\u001b[0m      builtin_function_or_method\n"
     ]
    }
   ],
   "source": [
    "torch.normal?"
   ]
  }
 ],
 "metadata": {
  "kernelspec": {
   "display_name": "Python 3",
   "language": "python",
   "name": "python3"
  },
  "language_info": {
   "codemirror_mode": {
    "name": "ipython",
    "version": 3
   },
   "file_extension": ".py",
   "mimetype": "text/x-python",
   "name": "python",
   "nbconvert_exporter": "python",
   "pygments_lexer": "ipython3",
   "version": "3.9.7"
  },
  "orig_nbformat": 4,
  "vscode": {
   "interpreter": {
    "hash": "123b9932f9da79072ca55f3df90f065e94efe2c192347af71fbcdc6b42c3e4aa"
   }
  }
 },
 "nbformat": 4,
 "nbformat_minor": 2
}
